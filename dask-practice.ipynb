{
 "cells": [
  {
   "cell_type": "code",
   "execution_count": 1,
   "metadata": {},
   "outputs": [],
   "source": [
    "# Lab Notes:\n",
    "\n",
    "# dask built-in python api, no need JVM!\n",
    "# can delay functions for lazy evaluations. dask performs optimizations.\n",
    "# pip install graphwiz\n",
    "\n",
    "# Python prevents shared memory space/multi-threading operations.\n",
    "# However, libraries like pandas and numpy (implemented with C) does allow, and are more optimized.\n",
    "# Dask less optimized but still allows multi-threading\n",
    "# With np.array, dask can break your full array into chunks (which are np.arrays themselves) and distribute to nodes to process"
   ]
  },
  {
   "cell_type": "code",
   "execution_count": null,
   "metadata": {},
   "outputs": [],
   "source": []
  }
 ],
 "metadata": {
  "kernelspec": {
   "display_name": "Python [conda env:bigdata-lab]",
   "language": "python",
   "name": "conda-env-bigdata-lab-py"
  },
  "language_info": {
   "codemirror_mode": {
    "name": "ipython",
    "version": 3
   },
   "file_extension": ".py",
   "mimetype": "text/x-python",
   "name": "python",
   "nbconvert_exporter": "python",
   "pygments_lexer": "ipython3",
   "version": "3.6.12"
  }
 },
 "nbformat": 4,
 "nbformat_minor": 2
}
